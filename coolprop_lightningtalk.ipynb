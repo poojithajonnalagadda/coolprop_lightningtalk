{
 "cells": [
  {
   "cell_type": "code",
   "execution_count": null,
   "id": "acfe520d",
   "metadata": {},
   "outputs": [],
   "source": [
    "#Coolprop Tutorial"
   ]
  }
 ],
 "metadata": {
  "language_info": {
   "name": "python"
  }
 },
 "nbformat": 4,
 "nbformat_minor": 5
}

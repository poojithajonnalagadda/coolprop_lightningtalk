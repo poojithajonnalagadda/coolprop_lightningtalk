{
 "cells": [
  {
   "cell_type": "code",
   "execution_count": 4,
   "id": "acfe520d",
   "metadata": {},
   "outputs": [
    {
     "name": "stdout",
     "output_type": "stream",
     "text": [
      "Density of Water at 298.15 K and 10000000.0 Pa = 1001.47 kg/m^3\n"
     ]
    }
   ],
   "source": [
    "from CoolProp.CoolProp import PropsSI\n",
    "\n",
    "T = 298.15 # [K]\n",
    "P = 100e5 # [Pa]\n",
    "rho = PropsSI('D', 'T', 298.15, 'P', 100e5, 'Water')\n",
    "\n",
    "print(f\"Density of Water at {T} K and {P} Pa = {rho:0.2f} kg/m^3\")"
   ]
  }
 ],
 "metadata": {
  "kernelspec": {
   "display_name": ".venv (3.12.11)",
   "language": "python",
   "name": "python3"
  },
  "language_info": {
   "codemirror_mode": {
    "name": "ipython",
    "version": 3
   },
   "file_extension": ".py",
   "mimetype": "text/x-python",
   "name": "python",
   "nbconvert_exporter": "python",
   "pygments_lexer": "ipython3",
   "version": "3.12.11"
  }
 },
 "nbformat": 4,
 "nbformat_minor": 5
}
